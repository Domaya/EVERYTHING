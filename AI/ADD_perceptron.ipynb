{
 "cells": [
  {
   "cell_type": "code",
   "execution_count": 11,
   "metadata": {},
   "outputs": [
    {
     "name": "stdout",
     "output_type": "stream",
     "text": [
      "[0.0, 0.0] -0.1 1.0\n",
      "[0.0, 0.0] -0.1 0.0\n",
      "[0.0, 0.0] -0.1 0.0\n",
      "[0.1, 0.1] 0.0 0.0\n",
      "에포크 번호 = 0, 학습률=0.100, 오차 = 2.000\n",
      "[0.1, 0.1] -0.1 1.0\n",
      "[0.1, 0.0] -0.2 1.0\n",
      "[0.1, 0.0] -0.2 0.0\n",
      "[0.2, 0.1] -0.1 0.0\n",
      "에포크 번호 = 1, 학습률=0.100, 오차 = 3.000\n",
      "[0.2, 0.1] -0.1 0.0\n",
      "[0.2, 0.0] -0.2 1.0\n",
      "[0.1, 0.0] -0.30000000000000004 1.0\n",
      "[0.2, 0.1] -0.20000000000000004 0.0\n",
      "에포크 번호 = 2, 학습률=0.100, 오차 = 3.000\n",
      "[0.2, 0.1] -0.20000000000000004 0.0\n",
      "[0.2, 0.1] -0.20000000000000004 0.0\n",
      "[0.2, 0.1] -0.20000000000000004 0.0\n",
      "[0.2, 0.1] -0.20000000000000004 1.0\n",
      "에포크 번호 = 3, 학습률=0.100, 오차 = 0.000\n",
      "[0.2, 0.1] -0.20000000000000004 0.0\n",
      "[0.2, 0.1] -0.20000000000000004 0.0\n",
      "[0.2, 0.1] -0.20000000000000004 0.0\n",
      "[0.2, 0.1] -0.20000000000000004 1.0\n",
      "에포크 번호 = 4, 학습률=0.100, 오차 = 0.000\n",
      "[0.2, 0.1] -0.20000000000000004\n"
     ]
    }
   ],
   "source": [
    "def calculate(input):\n",
    "    global weights\n",
    "    global bias\n",
    "    activation = bias\n",
    "    for i in range(2):\n",
    "        activation += weights[i] * input[i]\n",
    "    if activation >= 0.0:\n",
    "        return 1.0\n",
    "    else:\n",
    "        return 0.0\n",
    "\n",
    "def train_weights(X, y, l_rate, n_epoch):\n",
    "    global weights\n",
    "    global bias\n",
    "    for epoch in range(n_epoch):\n",
    "        sum_error = 0.0\n",
    "        for row, target in zip(X, y):\n",
    "            actual = calculate(row)\n",
    "            error = target - actual\n",
    "            bias = bias + l_rate * error\n",
    "            sum_error += error**2\n",
    "            for i in range(2):\n",
    "                weights[i] = weights[i] + l_rate * error * row[i]\n",
    "            print(weights, bias,actual)\n",
    "        print('에포크 번호 = %d, 학습률=%.3f, 오차 = %.3f' % (epoch, l_rate, sum_error))\n",
    "    return weights\n",
    "\n",
    "X = [[0,0], [0,1], [1,0], [1,1]]\n",
    "y = [0,0,0,1]\n",
    "\n",
    "weights = [0.0, 0.0]\n",
    "bias = 0.0\n",
    "\n",
    "l_rate = 0.1\n",
    "n_epoch = 5\n",
    "weights = train_weights(X, y, l_rate, n_epoch)\n",
    "print(weights, bias)"
   ]
  },
  {
   "cell_type": "code",
   "execution_count": null,
   "metadata": {},
   "outputs": [],
   "source": []
  }
 ],
 "metadata": {
  "kernelspec": {
   "display_name": "Python 3",
   "language": "python",
   "name": "python3"
  },
  "language_info": {
   "codemirror_mode": {
    "name": "ipython",
    "version": 3
   },
   "file_extension": ".py",
   "mimetype": "text/x-python",
   "name": "python",
   "nbconvert_exporter": "python",
   "pygments_lexer": "ipython3",
   "version": "3.7.6"
  }
 },
 "nbformat": 4,
 "nbformat_minor": 4
}
